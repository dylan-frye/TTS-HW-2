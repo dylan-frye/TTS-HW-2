{
 "cells": [
  {
   "cell_type": "markdown",
   "id": "c04ae834",
   "metadata": {},
   "source": [
    "Exercise 1\n",
    "Guess a number between 1 to 9 given by the user"
   ]
  },
  {
   "cell_type": "code",
   "execution_count": 1,
   "id": "cda3c556",
   "metadata": {},
   "outputs": [
    {
     "name": "stdout",
     "output_type": "stream",
     "text": [
      "Guess a number between 1 and 9: 2\n",
      "Guess a number between 1 and 9: 3\n",
      "Guess a number between 1 and 9: 4\n",
      "Guess a number between 1 and 9: 5\n",
      "Guess a number between 1 and 9: 6\n",
      "Guess a number between 1 and 9: 7\n",
      "Nice Guess!\n"
     ]
    }
   ],
   "source": [
    "import random\n",
    "target_num, guess_num = random.randint(1, 10), 0\n",
    "while target_num != guess_num:\n",
    "    guess_num = int(input('Guess a number between 1 and 9: '))\n",
    "    \n",
    "print('Nice Guess!')"
   ]
  },
  {
   "cell_type": "markdown",
   "id": "5d60b6cf",
   "metadata": {},
   "source": [
    "Exercise 2\n",
    "Check the validity of password input by the user.\n",
    "\n",
    "Validation:\n",
    "\n",
    "At least 1 letter between [a-z] and 1 letter between [A-Z]\n",
    "At least 1 number between [0-9]\n",
    "At least 1 character from [$#@]\n",
    "Minimum length 6 characters\n",
    "Maximum length 16 characters"
   ]
  },
  {
   "cell_type": "code",
   "execution_count": 1,
   "id": "900b7318",
   "metadata": {},
   "outputs": [
    {
     "name": "stdout",
     "output_type": "stream",
     "text": [
      "Input your password: P@ssw0rd\n",
      "Valid Password\n"
     ]
    }
   ],
   "source": [
    "import re\n",
    "p= input(\"Input your password: \")\n",
    "x = True\n",
    "while x:  \n",
    "    if (len(p)<6 or len(p)>12):\n",
    "        break\n",
    "    elif not re.search(\"[a-z]\",p):\n",
    "        break\n",
    "    elif not re.search(\"[0-9]\",p):\n",
    "        break\n",
    "    elif not re.search(\"[A-Z]\",p):\n",
    "        break\n",
    "    elif not re.search(\"[$#@]\",p):\n",
    "        break\n",
    "    elif re.search(\"\\s\",p):\n",
    "        break\n",
    "    else:\n",
    "        print(\"Valid Password\")\n",
    "        x=False\n",
    "        break\n",
    "\n",
    "if x:\n",
    "    print(\"Invalid Password\")"
   ]
  },
  {
   "cell_type": "markdown",
   "id": "99a26c9e",
   "metadata": {},
   "source": [
    "Exercise 3\n",
    "Get input of the age of 3 people by user and determine oldest and youngest among them"
   ]
  },
  {
   "cell_type": "code",
   "execution_count": 2,
   "id": "356f56a7",
   "metadata": {},
   "outputs": [
    {
     "name": "stdout",
     "output_type": "stream",
     "text": [
      "enter age1: 12\n",
      "enter age2: 10\n",
      "enter age3: 35\n",
      "age3 is oldest\n",
      "age2 is youngest\n"
     ]
    }
   ],
   "source": [
    "age1=int(input('enter age1: '))\n",
    "age2=int(input('enter age2: '))\n",
    "age3=int(input('enter age3: '))\n",
    "\n",
    "if age1>age2 and age1>age3:\n",
    "    print('age1 is oldest')\n",
    "elif age2>age1 and age2>age3:\n",
    "    print('age2 is oldest')\n",
    "else:\n",
    "    print('age3 is oldest')\n",
    "if age1<age2 and age1<age3:\n",
    "    print('age1 is youngest')\n",
    "elif age2<age1 and age2<age3:\n",
    "    print('age2 is youngest')\n",
    "else:\n",
    "     print('age3 is youngest')"
   ]
  },
  {
   "cell_type": "markdown",
   "id": "66cf8f12",
   "metadata": {},
   "source": [
    "Exercise 4\n",
    "A student will not be allowed to sit in exam if his/her attendance is less than 75%.\n",
    "\n",
    "Take following input from user\n",
    "\n",
    "Number of classes held\n",
    "Number of classes attended.\n",
    "And print\n",
    "percentage of class attended\n",
    "Is student is allowed to sit in exam or not?"
   ]
  },
  {
   "cell_type": "code",
   "execution_count": 4,
   "id": "90554bae",
   "metadata": {},
   "outputs": [
    {
     "name": "stdout",
     "output_type": "stream",
     "text": [
      "Number of classes held:5\n",
      "Number of classes attended:3\n",
      "The student is not allowed to sit in the exam hall\n"
     ]
    }
   ],
   "source": [
    "a=int(input(\"Number of classes held:\"))\n",
    "b=int(input(\"Number of classes attended:\"))\n",
    "percentage=b/a*100\n",
    "if percentage>=75:\n",
    "        print(\"The student is allowed to sit in the exam hall\")\n",
    "else:\n",
    "        print(\"The student is not allowed to sit in the exam hall\")"
   ]
  },
  {
   "cell_type": "markdown",
   "id": "5303e23b",
   "metadata": {},
   "source": [
    "Exercise 5\n",
    "\n",
    "Get an integer N from the user and perform the following actions:\n",
    "\n",
    "if N is odd, print \"weird\"\n",
    "if N is even and in the inclusive range of 2 to 5, print \"Not Weird\"\n",
    "if N is even and in the inclusive range of 6 to 20, print \"Weird\"\n",
    "if N is even and greater than 20, print \"Not Weird\""
   ]
  },
  {
   "cell_type": "code",
   "execution_count": 5,
   "id": "4e7b0ec4",
   "metadata": {},
   "outputs": [
    {
     "name": "stdout",
     "output_type": "stream",
     "text": [
      "5\n",
      "Weird\n"
     ]
    }
   ],
   "source": [
    "n = int(input())\n",
    "if n % 2 == 1:\n",
    "    print(\"Weird\")\n",
    "elif n % 2 == 0 and 2 <= n <= 5:\n",
    "    print(\"Not Weird\")\n",
    "elif n % 2 == 0 and 6 <= n <= 20:\n",
    "    print(\"Weird\")\n",
    "else:\n",
    "    print(\"Not Weird\")"
   ]
  }
 ],
 "metadata": {
  "kernelspec": {
   "display_name": "Python 3 (ipykernel)",
   "language": "python",
   "name": "python3"
  },
  "language_info": {
   "codemirror_mode": {
    "name": "ipython",
    "version": 3
   },
   "file_extension": ".py",
   "mimetype": "text/x-python",
   "name": "python",
   "nbconvert_exporter": "python",
   "pygments_lexer": "ipython3",
   "version": "3.9.12"
  }
 },
 "nbformat": 4,
 "nbformat_minor": 5
}
